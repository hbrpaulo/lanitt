{
 "cells": [
  {
   "cell_type": "markdown",
   "metadata": {},
   "source": [
    "## Objetivo\n",
    "\n",
    "Este projeto visa a participação do \"Desafio Data Analyst ConexaLabs 2020\".\n",
    "\n",
    "![](https://d335luupugsy2.cloudfront.net/cms/files/102645/1608819521/$obdchp1q3i)\n",
    "\n",
    "Se utilizará os dados do navio Titanic. Respondendo as seguintes questões:\n",
    "\n",
    "1. Como as características coletadas se comportam em relação à cidade de embarque?\n",
    "2. Como as características coletadas se comportam em relação ao preço da passagem?\n",
    "3. Como as características coletadas se comportam em relação à sobrevivência dos passageiros?\n",
    "4. Como essas 3 variáveis (embarked, fare e survival) se relacionam entre si?"
   ]
  },
  {
   "cell_type": "code",
   "execution_count": 27,
   "metadata": {},
   "outputs": [],
   "source": [
    "import pandas as pd\n",
    "import numpy as np\n",
    "import seaborn as sns\n",
    "import matplotlib.pyplot as plt\n",
    "\n",
    "link = 'https://github.com/conexalabs/desafio-data-analyst/blob/main/data/titanic.parquet?raw=true'\n",
    "data_titanic = pd.read_parquet(link)\n",
    "#sns.set_style(\"whitegrid\")"
   ]
  },
  {
   "cell_type": "markdown",
   "metadata": {},
   "source": [
    "========================================\n",
    "\n",
    "========================================\n",
    "\n",
    "## O banco de dados:"
   ]
  },
  {
   "cell_type": "code",
   "execution_count": 28,
   "metadata": {},
   "outputs": [
    {
     "data": {
      "text/html": [
       "<div>\n",
       "<style scoped>\n",
       "    .dataframe tbody tr th:only-of-type {\n",
       "        vertical-align: middle;\n",
       "    }\n",
       "\n",
       "    .dataframe tbody tr th {\n",
       "        vertical-align: top;\n",
       "    }\n",
       "\n",
       "    .dataframe thead th {\n",
       "        text-align: right;\n",
       "    }\n",
       "</style>\n",
       "<table border=\"1\" class=\"dataframe\">\n",
       "  <thead>\n",
       "    <tr style=\"text-align: right;\">\n",
       "      <th></th>\n",
       "      <th>name</th>\n",
       "      <th>survival</th>\n",
       "      <th>pclass</th>\n",
       "      <th>sex</th>\n",
       "      <th>age</th>\n",
       "      <th>sibsp</th>\n",
       "      <th>parch</th>\n",
       "      <th>ticket</th>\n",
       "      <th>fare</th>\n",
       "      <th>cabin</th>\n",
       "      <th>embarked</th>\n",
       "    </tr>\n",
       "  </thead>\n",
       "  <tbody>\n",
       "    <tr>\n",
       "      <th>0</th>\n",
       "      <td>Braund, Mr. Owen Harris</td>\n",
       "      <td>0.0</td>\n",
       "      <td>3</td>\n",
       "      <td>male</td>\n",
       "      <td>22.0</td>\n",
       "      <td>1</td>\n",
       "      <td>0</td>\n",
       "      <td>A/5 21171</td>\n",
       "      <td>7.2500</td>\n",
       "      <td>None</td>\n",
       "      <td>S</td>\n",
       "    </tr>\n",
       "    <tr>\n",
       "      <th>1</th>\n",
       "      <td>Cumings, Mrs. John Bradley (Florence Briggs Th...</td>\n",
       "      <td>1.0</td>\n",
       "      <td>1</td>\n",
       "      <td>female</td>\n",
       "      <td>38.0</td>\n",
       "      <td>1</td>\n",
       "      <td>0</td>\n",
       "      <td>PC 17599</td>\n",
       "      <td>71.2833</td>\n",
       "      <td>C85</td>\n",
       "      <td>C</td>\n",
       "    </tr>\n",
       "    <tr>\n",
       "      <th>2</th>\n",
       "      <td>Heikkinen, Miss. Laina</td>\n",
       "      <td>1.0</td>\n",
       "      <td>3</td>\n",
       "      <td>female</td>\n",
       "      <td>26.0</td>\n",
       "      <td>0</td>\n",
       "      <td>0</td>\n",
       "      <td>STON/O2. 3101282</td>\n",
       "      <td>7.9250</td>\n",
       "      <td>None</td>\n",
       "      <td>S</td>\n",
       "    </tr>\n",
       "    <tr>\n",
       "      <th>3</th>\n",
       "      <td>Futrelle, Mrs. Jacques Heath (Lily May Peel)</td>\n",
       "      <td>1.0</td>\n",
       "      <td>1</td>\n",
       "      <td>female</td>\n",
       "      <td>35.0</td>\n",
       "      <td>1</td>\n",
       "      <td>0</td>\n",
       "      <td>113803</td>\n",
       "      <td>53.1000</td>\n",
       "      <td>C123</td>\n",
       "      <td>S</td>\n",
       "    </tr>\n",
       "    <tr>\n",
       "      <th>4</th>\n",
       "      <td>Allen, Mr. William Henry</td>\n",
       "      <td>0.0</td>\n",
       "      <td>3</td>\n",
       "      <td>male</td>\n",
       "      <td>35.0</td>\n",
       "      <td>0</td>\n",
       "      <td>0</td>\n",
       "      <td>373450</td>\n",
       "      <td>8.0500</td>\n",
       "      <td>None</td>\n",
       "      <td>S</td>\n",
       "    </tr>\n",
       "    <tr>\n",
       "      <th>5</th>\n",
       "      <td>Moran, Mr. James</td>\n",
       "      <td>0.0</td>\n",
       "      <td>3</td>\n",
       "      <td>male</td>\n",
       "      <td>NaN</td>\n",
       "      <td>0</td>\n",
       "      <td>0</td>\n",
       "      <td>330877</td>\n",
       "      <td>8.4583</td>\n",
       "      <td>None</td>\n",
       "      <td>Q</td>\n",
       "    </tr>\n",
       "    <tr>\n",
       "      <th>6</th>\n",
       "      <td>McCarthy, Mr. Timothy J</td>\n",
       "      <td>0.0</td>\n",
       "      <td>1</td>\n",
       "      <td>male</td>\n",
       "      <td>54.0</td>\n",
       "      <td>0</td>\n",
       "      <td>0</td>\n",
       "      <td>17463</td>\n",
       "      <td>51.8625</td>\n",
       "      <td>E46</td>\n",
       "      <td>S</td>\n",
       "    </tr>\n",
       "    <tr>\n",
       "      <th>7</th>\n",
       "      <td>Palsson, Master. Gosta Leonard</td>\n",
       "      <td>0.0</td>\n",
       "      <td>3</td>\n",
       "      <td>male</td>\n",
       "      <td>2.0</td>\n",
       "      <td>3</td>\n",
       "      <td>1</td>\n",
       "      <td>349909</td>\n",
       "      <td>21.0750</td>\n",
       "      <td>None</td>\n",
       "      <td>S</td>\n",
       "    </tr>\n",
       "    <tr>\n",
       "      <th>8</th>\n",
       "      <td>Johnson, Mrs. Oscar W (Elisabeth Vilhelmina Berg)</td>\n",
       "      <td>1.0</td>\n",
       "      <td>3</td>\n",
       "      <td>female</td>\n",
       "      <td>27.0</td>\n",
       "      <td>0</td>\n",
       "      <td>2</td>\n",
       "      <td>347742</td>\n",
       "      <td>11.1333</td>\n",
       "      <td>None</td>\n",
       "      <td>S</td>\n",
       "    </tr>\n",
       "    <tr>\n",
       "      <th>9</th>\n",
       "      <td>Nasser, Mrs. Nicholas (Adele Achem)</td>\n",
       "      <td>1.0</td>\n",
       "      <td>2</td>\n",
       "      <td>female</td>\n",
       "      <td>14.0</td>\n",
       "      <td>1</td>\n",
       "      <td>0</td>\n",
       "      <td>237736</td>\n",
       "      <td>30.0708</td>\n",
       "      <td>None</td>\n",
       "      <td>C</td>\n",
       "    </tr>\n",
       "  </tbody>\n",
       "</table>\n",
       "</div>"
      ],
      "text/plain": [
       "                                                name  survival  pclass  \\\n",
       "0                            Braund, Mr. Owen Harris       0.0       3   \n",
       "1  Cumings, Mrs. John Bradley (Florence Briggs Th...       1.0       1   \n",
       "2                             Heikkinen, Miss. Laina       1.0       3   \n",
       "3       Futrelle, Mrs. Jacques Heath (Lily May Peel)       1.0       1   \n",
       "4                           Allen, Mr. William Henry       0.0       3   \n",
       "5                                   Moran, Mr. James       0.0       3   \n",
       "6                            McCarthy, Mr. Timothy J       0.0       1   \n",
       "7                     Palsson, Master. Gosta Leonard       0.0       3   \n",
       "8  Johnson, Mrs. Oscar W (Elisabeth Vilhelmina Berg)       1.0       3   \n",
       "9                Nasser, Mrs. Nicholas (Adele Achem)       1.0       2   \n",
       "\n",
       "      sex   age  sibsp  parch            ticket     fare cabin embarked  \n",
       "0    male  22.0      1      0         A/5 21171   7.2500  None        S  \n",
       "1  female  38.0      1      0          PC 17599  71.2833   C85        C  \n",
       "2  female  26.0      0      0  STON/O2. 3101282   7.9250  None        S  \n",
       "3  female  35.0      1      0            113803  53.1000  C123        S  \n",
       "4    male  35.0      0      0            373450   8.0500  None        S  \n",
       "5    male   NaN      0      0            330877   8.4583  None        Q  \n",
       "6    male  54.0      0      0             17463  51.8625   E46        S  \n",
       "7    male   2.0      3      1            349909  21.0750  None        S  \n",
       "8  female  27.0      0      2            347742  11.1333  None        S  \n",
       "9  female  14.0      1      0            237736  30.0708  None        C  "
      ]
     },
     "execution_count": 28,
     "metadata": {},
     "output_type": "execute_result"
    }
   ],
   "source": [
    "data_titanic.head(n=10)"
   ]
  },
  {
   "cell_type": "markdown",
   "metadata": {},
   "source": [
    "### Tratamento inicial dos dados\n",
    "\n",
    "- Verifiquemos a existência de dados faltantes,\n",
    "- posteriormente a existência de linhas duplicadas."
   ]
  },
  {
   "cell_type": "code",
   "execution_count": 29,
   "metadata": {},
   "outputs": [
    {
     "name": "stdout",
     "output_type": "stream",
     "text": [
      "Dimensões do banco: (1309, 11)\n",
      "==============================\n",
      "Quantidade de Dados faltantes \n",
      " em cada variável\n",
      "==============================\n",
      "name           0\n",
      "survival     418\n",
      "pclass         0\n",
      "sex            0\n",
      "age          263\n",
      "sibsp          0\n",
      "parch          0\n",
      "ticket         0\n",
      "fare           1\n",
      "cabin       1014\n",
      "embarked       2\n",
      "dtype: int64\n",
      "==============================\n"
     ]
    }
   ],
   "source": [
    "print(\"Dimensões do banco:\", data_titanic.shape)\n",
    "print(\"==============================\")\n",
    "print(\"Quantidade de Dados faltantes \\n em cada variável\")\n",
    "print(\"==============================\")\n",
    "print(data_titanic.isna().sum(axis = 0))\n",
    "print(\"==============================\")"
   ]
  },
  {
   "cell_type": "markdown",
   "metadata": {},
   "source": [
    "As colunas **survival**, **age** e **cabin** possuem uma quantidade considerável de dados faltantes, portanto sofreram tratamentos. As colunas **fare** e **embarked** possuem tão poucos dados faltantes que não convém fazer nenhum tipo de inputação.\n",
    "\n",
    "Para as variáveis categóricas **survival** e **cabin** substituiremos os valores faltantes por **Não-informado(a)**. Enquanto a variável numérica **age** a inputação se fará pela média."
   ]
  },
  {
   "cell_type": "code",
   "execution_count": 30,
   "metadata": {},
   "outputs": [
    {
     "name": "stdout",
     "output_type": "stream",
     "text": [
      "================\n",
      "name        0\n",
      "survival    0\n",
      "pclass      0\n",
      "sex         0\n",
      "age         0\n",
      "sibsp       0\n",
      "parch       0\n",
      "ticket      0\n",
      "fare        1\n",
      "cabin       0\n",
      "embarked    2\n",
      "dtype: int64\n",
      "================\n"
     ]
    }
   ],
   "source": [
    "data_titanic[\"survival\"] = data_titanic[\"survival\"].fillna(\"Não informado\")\n",
    "data_titanic[\"cabin\"] = data_titanic[\"cabin\"].fillna(\"Não informada\")\n",
    "\n",
    "mAge = data_titanic[\"age\"].mean()\n",
    "data_titanic[\"age\"] = data_titanic[\"age\"].fillna(mAge)\n",
    "\n",
    "print(\"================\")\n",
    "print(data_titanic.isna().sum(axis = 0))\n",
    "print(\"================\")"
   ]
  },
  {
   "cell_type": "markdown",
   "metadata": {},
   "source": [
    "Quantidade de células duplicadas:"
   ]
  },
  {
   "cell_type": "code",
   "execution_count": 31,
   "metadata": {},
   "outputs": [
    {
     "data": {
      "text/plain": [
       "0"
      ]
     },
     "execution_count": 31,
     "metadata": {},
     "output_type": "execute_result"
    }
   ],
   "source": [
    "data_titanic.duplicated().sum()"
   ]
  },
  {
   "cell_type": "markdown",
   "metadata": {},
   "source": [
    "==============================================================================================\n",
    "\n",
    "==============================================================================================\n",
    "\n",
    "### DICIONÁRIO DE DADOS:\n",
    "\n",
    "- name: Nome do passageiro\n",
    "\n",
    "- survival: 0 = Não sobreviveu; 1 = Sobreviveu\n",
    "\n",
    "- pclass: Classe na qual o passageiro viajou. (1 = Primeira Classe; 2 = Segunda Classe; 3 = Terceira Classe)\n",
    "\n",
    "- sex: Sexo do passageiro (0 = Masculino; 1 = Feminino)\n",
    "\n",
    "- age: Idade do passageiro\n",
    "\n",
    "- sibsp*: Número de irmãos/cônjuges a bordo do Titanic\n",
    "\n",
    "- parch*: Número de pais/filhos a bordo do Titanic\n",
    "\n",
    "-  ticket: Número do bilhete\n",
    "\n",
    "- fare: Tarifa do passageiro\n",
    "\n",
    "- cabin: Número da cabine\n",
    "\n",
    "- embarked: Embarcado em (C = Cherbourg, Q = Queenstown, S = Southampton)\n",
    "\n",
    "\n",
    "==============================================================================================\n",
    "\n",
    "\n",
    "=============================================================================================="
   ]
  },
  {
   "cell_type": "markdown",
   "metadata": {},
   "source": [
    "<i>\n",
    " <strong>\n",
    "  <font style=\"color: rgb(64,200,124); font-family: Arial\">\n",
    "\n",
    "# Introdução - O inafundável\n",
    "      \n",
    "      \n",
    "No dia 02 de Abril, após atrasos devido a mau tempo o maior navio de passageiros da época, o britânico Titanic, partia na sua primeira aventura nos mares. Partiu a 6 horas da manhã e atracou após vários testes às 19 horas do mesmo dia. Sendo declarado funcional para navegar. E uma hora depois partiu da cidade onde foi construído (Belfast) para Southampton.\n",
    "\n",
    " \n",
    "No dia 04 de Abril, após uma viagem de 28 horas de duração, atracou com a sua tripulação ilesa na cidade de Southampton 6 dias antes de sua viagem de estréia.\n",
    "\n",
    "![](https://upload.wikimedia.org/wikipedia/commons/thumb/8/81/Titanic_in_color.png/800px-Titanic_in_color.png)\n",
    "\n",
    "No dia 10 de Abril, na mesma cidade, o Titanic partia na sua viagem inaugural, se dirigindo para Chergougn e Queenstown coletando passageiros ávidos por ter viagem de suas vidas. Atravessar o Atlântico e chegar as Américas,\n",
    "\n",
    "No banco de dados utilizados nesse estudo o total de pessoas analizadas foi de 1309. Com as seguintes quantidades que subiram em cada um dos embarques:\n",
    "  </font>\n",
    " </strong>\n",
    "</i>\n",
    "\n"
   ]
  },
  {
   "cell_type": "code",
   "execution_count": 32,
   "metadata": {},
   "outputs": [
    {
     "name": "stdout",
     "output_type": "stream",
     "text": [
      "Embarque em Southampton: 914 ;\n",
      "\t\t\t   69.82 % do total\n",
      "Embarque em Southampton: 270 ;\n",
      "\t\t\t   20.63 % do total\n",
      "Embarque em Queenstown: 123\n",
      "\t\t\t   9.4 % do total\n",
      "\t Num total de 1309 pessoas\n"
     ]
    },
    {
     "data": {
      "image/png": "[encoded data removed]",
      "text/plain": [
       "<Figure size 402.375x360 with 1 Axes>"
      ]
     },
     "metadata": {
      "needs_background": "light"
     },
     "output_type": "display_data"
    }
   ],
   "source": [
    "sns.catplot(x = \"embarked\",\n",
    "            kind = \"count\",\n",
    "            hue = \"pclass\",\n",
    "            palette = \"Paired\",\n",
    "            data = data_titanic\n",
    "            )\n",
    "plt.title('Distribuição dos passageiros por cidade de embarcação')\n",
    "\n",
    "nrow = data_titanic.shape[0]\n",
    "nrow_s = data_titanic.query('embarked==\"S\"').shape[0]\n",
    "nrow_c = data_titanic.query('embarked==\"C\"').shape[0]\n",
    "nrow_q = data_titanic.query('embarked==\"Q\"').shape[0]\n",
    "\n",
    "print(\"Embarque em Southampton:\", nrow_s, \";\")\n",
    "print(\"\\t\\t\\t  \", round(nrow_s/nrow*100,2), \"% do total\")\n",
    "print(\"Embarque em Southampton:\", nrow_c, \";\")\n",
    "print(\"\\t\\t\\t  \", round(nrow_c/nrow*100,2), \"% do total\")\n",
    "print(\"Embarque em Queenstown:\", nrow_q)\n",
    "print(\"\\t\\t\\t  \", round(nrow_q/nrow*100,2), \"% do total\")\n",
    "print(\"\\t Num total de\", nrow, \"pessoas\")\n",
    "\n",
    "#data_titanic[\"embarked\"].value_counts()"
   ]
  },
  {
   "cell_type": "markdown",
   "metadata": {},
   "source": [
    "## 1. Como as características coletadas se comportam em relação à cidade de embarque?\n",
    "\n",
    "Podemos perceber que nas embarcações de S (Southampton) e C (Chergougn), os valores foram mais balanceados. Enquanto os passageiros que subiram na cidade Q (Queenstown) compraram predominandemente passagens na 3ª classe. Isso fica evidente no quadro de medidas descritivas dos preços das passagens (fare)."
   ]
  },
  {
   "cell_type": "markdown",
   "metadata": {},
   "source": [
    "### 1.2 O preço da passagem"
   ]
  },
  {
   "cell_type": "code",
   "execution_count": 33,
   "metadata": {},
   "outputs": [
    {
     "data": {
      "text/html": [
       "<div>\n",
       "<style scoped>\n",
       "    .dataframe tbody tr th:only-of-type {\n",
       "        vertical-align: middle;\n",
       "    }\n",
       "\n",
       "    .dataframe tbody tr th {\n",
       "        vertical-align: top;\n",
       "    }\n",
       "\n",
       "    .dataframe thead tr th {\n",
       "        text-align: left;\n",
       "    }\n",
       "\n",
       "    .dataframe thead tr:last-of-type th {\n",
       "        text-align: right;\n",
       "    }\n",
       "</style>\n",
       "<table border=\"1\" class=\"dataframe\">\n",
       "  <thead>\n",
       "    <tr>\n",
       "      <th></th>\n",
       "      <th colspan=\"6\" halign=\"left\">fare</th>\n",
       "    </tr>\n",
       "    <tr>\n",
       "      <th></th>\n",
       "      <th>min</th>\n",
       "      <th>max</th>\n",
       "      <th>median</th>\n",
       "      <th>mean</th>\n",
       "      <th>count</th>\n",
       "      <th>sum</th>\n",
       "    </tr>\n",
       "    <tr>\n",
       "      <th>embarked</th>\n",
       "      <th></th>\n",
       "      <th></th>\n",
       "      <th></th>\n",
       "      <th></th>\n",
       "      <th></th>\n",
       "      <th></th>\n",
       "    </tr>\n",
       "  </thead>\n",
       "  <tbody>\n",
       "    <tr>\n",
       "      <th>C</th>\n",
       "      <td>4.0125</td>\n",
       "      <td>512.3292</td>\n",
       "      <td>28.51875</td>\n",
       "      <td>62.336267</td>\n",
       "      <td>270</td>\n",
       "      <td>16830.7922</td>\n",
       "    </tr>\n",
       "    <tr>\n",
       "      <th>Q</th>\n",
       "      <td>6.7500</td>\n",
       "      <td>90.0000</td>\n",
       "      <td>7.75000</td>\n",
       "      <td>12.409012</td>\n",
       "      <td>123</td>\n",
       "      <td>1526.3085</td>\n",
       "    </tr>\n",
       "    <tr>\n",
       "      <th>S</th>\n",
       "      <td>0.0000</td>\n",
       "      <td>263.0000</td>\n",
       "      <td>13.00000</td>\n",
       "      <td>27.418824</td>\n",
       "      <td>913</td>\n",
       "      <td>25033.3862</td>\n",
       "    </tr>\n",
       "  </tbody>\n",
       "</table>\n",
       "</div>"
      ],
      "text/plain": [
       "            fare                                                 \n",
       "             min       max    median       mean count         sum\n",
       "embarked                                                         \n",
       "C         4.0125  512.3292  28.51875  62.336267   270  16830.7922\n",
       "Q         6.7500   90.0000   7.75000  12.409012   123   1526.3085\n",
       "S         0.0000  263.0000  13.00000  27.418824   913  25033.3862"
      ]
     },
     "execution_count": 33,
     "metadata": {},
     "output_type": "execute_result"
    }
   ],
   "source": [
    "data_titanic.groupby('embarked').agg(\n",
    "    {'fare': [min, max, 'median', 'mean', 'count', sum, ]}\n",
    ")"
   ]
  },
  {
   "cell_type": "markdown",
   "metadata": {},
   "source": [
    "É notório a diferença das médias, porém devido a presença de vários outliers iremos nos ater mais a diferença entre as medianas. \n",
    "\n",
    "- Em S é duas vezes maior em relação a Q. \n",
    "- E três vezes maior comparando C com Q.\n",
    "- Q < S < C"
   ]
  },
  {
   "cell_type": "code",
   "execution_count": 34,
   "metadata": {},
   "outputs": [
    {
     "data": {
      "text/plain": [
       "Text(0.5, 1.0, 'Preços: 1 classe')"
      ]
     },
     "execution_count": 34,
     "metadata": {},
     "output_type": "execute_result"
    },
    {
     "data": {
      "image/png": "[encoded data removed]",
      "text/plain": [
       "<Figure size 1080x216 with 4 Axes>"
      ]
     },
     "metadata": {
      "needs_background": "light"
     },
     "output_type": "display_data"
    }
   ],
   "source": [
    "priceC1 = data_titanic.query('fare!=0').query('pclass==1')\n",
    "priceC2 = data_titanic.query('fare!=0').query('pclass==2')\n",
    "priceC3 = data_titanic.query('fare!=0').query('pclass==3')\n",
    "\n",
    "import pylab\n",
    "fig, ax = plt.subplots(1,4, figsize=(15,3))\n",
    "sns.boxplot(data = data_titanic.query('fare!=0'),\n",
    "            x = \"embarked\",\n",
    "            y = \"fare\",\n",
    "            palette = \"Paired\",\n",
    "            order = [\"S\", \"C\", \"Q\"],\n",
    "            showfliers=False,\n",
    "            ax = ax[0] # Não plotar outliers para facilitar a visualização\n",
    "           )\n",
    "sns.boxplot(data = priceC3,\n",
    "            x = \"embarked\",\n",
    "            y = \"fare\",\n",
    "            palette = \"Paired\",\n",
    "            order = [\"S\", \"C\", \"Q\"],\n",
    "            showfliers=False, # Não plotar outliers para facilitar a visualização\n",
    "            ax = ax[1]\n",
    "           )\n",
    "sns.boxplot(data = priceC2,\n",
    "            x = \"embarked\",\n",
    "            y = \"fare\",\n",
    "            palette = \"Paired\",\n",
    "            order = [\"S\", \"C\", \"Q\"],\n",
    "            showfliers=False,\n",
    "            ax = ax[2]\n",
    "           )\n",
    "sns.boxplot(data = priceC1,\n",
    "            x = \"embarked\",\n",
    "            y = \"fare\",\n",
    "            palette = \"Paired\",\n",
    "            order = [\"S\", \"C\", \"Q\"],\n",
    "            showfliers=False,\n",
    "            ax = ax[3]\n",
    "           )\n",
    "\n",
    "ax[0].set_title('Preços: Total')\n",
    "ax[1].set_title('Preços: 3 classe')\n",
    "ax[2].set_title('Preços: 2 classe')\n",
    "ax[3].set_title('Preços: 1 classe')"
   ]
  },
  {
   "cell_type": "markdown",
   "metadata": {},
   "source": [
    "Porém quando separamos os dados entre as classes de viagem, vemos que em geral na cidade C foi onde houveram em geral preços maiores no Total, na segunda e primeira classe. Seguidos pelas cidade S que teve preços maiores na terceira classe e ao fim Q que costumou ter os menores preços.\n",
    "\n",
    "- Q < C < S"
   ]
  },
  {
   "cell_type": "markdown",
   "metadata": {},
   "source": [
    "### 1.3 Idade"
   ]
  },
  {
   "cell_type": "code",
   "execution_count": 35,
   "metadata": {},
   "outputs": [
    {
     "data": {
      "text/html": [
       "<div>\n",
       "<style scoped>\n",
       "    .dataframe tbody tr th:only-of-type {\n",
       "        vertical-align: middle;\n",
       "    }\n",
       "\n",
       "    .dataframe tbody tr th {\n",
       "        vertical-align: top;\n",
       "    }\n",
       "\n",
       "    .dataframe thead tr th {\n",
       "        text-align: left;\n",
       "    }\n",
       "\n",
       "    .dataframe thead tr:last-of-type th {\n",
       "        text-align: right;\n",
       "    }\n",
       "</style>\n",
       "<table border=\"1\" class=\"dataframe\">\n",
       "  <thead>\n",
       "    <tr>\n",
       "      <th></th>\n",
       "      <th colspan=\"5\" halign=\"left\">age</th>\n",
       "    </tr>\n",
       "    <tr>\n",
       "      <th></th>\n",
       "      <th>min</th>\n",
       "      <th>max</th>\n",
       "      <th>median</th>\n",
       "      <th>mean</th>\n",
       "      <th>count</th>\n",
       "    </tr>\n",
       "    <tr>\n",
       "      <th>embarked</th>\n",
       "      <th></th>\n",
       "      <th></th>\n",
       "      <th></th>\n",
       "      <th></th>\n",
       "      <th></th>\n",
       "    </tr>\n",
       "  </thead>\n",
       "  <tbody>\n",
       "    <tr>\n",
       "      <th>C</th>\n",
       "      <td>0.42</td>\n",
       "      <td>71.0</td>\n",
       "      <td>29.881138</td>\n",
       "      <td>31.805652</td>\n",
       "      <td>270</td>\n",
       "    </tr>\n",
       "    <tr>\n",
       "      <th>Q</th>\n",
       "      <td>2.00</td>\n",
       "      <td>70.5</td>\n",
       "      <td>29.881138</td>\n",
       "      <td>29.372545</td>\n",
       "      <td>123</td>\n",
       "    </tr>\n",
       "    <tr>\n",
       "      <th>S</th>\n",
       "      <td>0.17</td>\n",
       "      <td>80.0</td>\n",
       "      <td>29.881138</td>\n",
       "      <td>29.337046</td>\n",
       "      <td>914</td>\n",
       "    </tr>\n",
       "  </tbody>\n",
       "</table>\n",
       "</div>"
      ],
      "text/plain": [
       "           age                                  \n",
       "           min   max     median       mean count\n",
       "embarked                                        \n",
       "C         0.42  71.0  29.881138  31.805652   270\n",
       "Q         2.00  70.5  29.881138  29.372545   123\n",
       "S         0.17  80.0  29.881138  29.337046   914"
      ]
     },
     "execution_count": 35,
     "metadata": {},
     "output_type": "execute_result"
    }
   ],
   "source": [
    "data_titanic.groupby('embarked').agg(\n",
    "    {'age': [min, max, 'median', 'mean', 'count']}\n",
    ")"
   ]
  },
  {
   "cell_type": "markdown",
   "metadata": {},
   "source": [
    "Já as idades das pessoas, não se diferenciam muito pouco em relação a cidade de embarque. Com mínima, máxima, mediana e média bem parecidas.\n",
    "\n",
    "*ps. lembrando que idade em números não-inteiros se tratam de estimativas.*"
   ]
  },
  {
   "cell_type": "markdown",
   "metadata": {},
   "source": [
    "### 1.4 Sexo"
   ]
  },
  {
   "cell_type": "code",
   "execution_count": 36,
   "metadata": {
    "scrolled": true
   },
   "outputs": [
    {
     "data": {
      "image/png": "[encoded data removed]",
      "text/plain": [
       "<Figure size 1080x216 with 4 Axes>"
      ]
     },
     "metadata": {
      "needs_background": "light"
     },
     "output_type": "display_data"
    }
   ],
   "source": [
    "import pylab\n",
    "fig, ax = plt.subplots(1,4, figsize=(15, 3))\n",
    "sns.countplot(x = data_titanic[\"embarked\"],\n",
    "            hue = data_titanic[\"sex\"],\n",
    "            hue_order = [\"female\", \"male\"],\n",
    "            palette = \"Set1\",\n",
    "            ax = ax[0]\n",
    "            )\n",
    "sns.countplot(x = data_titanic.query('pclass==3')[\"embarked\"],\n",
    "            hue = data_titanic.query('pclass==3')[\"sex\"],\n",
    "            hue_order = [\"female\", \"male\"],\n",
    "            palette = \"Set1\",\n",
    "            ax = ax[1]\n",
    "            )\n",
    "sns.countplot(x = data_titanic.query('pclass==2')[\"embarked\"],\n",
    "            hue = data_titanic.query('pclass==2')[\"sex\"],\n",
    "            hue_order = [\"female\", \"male\"],\n",
    "            palette = \"Set1\",\n",
    "            ax = ax[2]\n",
    "            )\n",
    "sns.countplot(x = data_titanic.query('pclass==1')[\"embarked\"],\n",
    "            hue = data_titanic.query('pclass==1')[\"sex\"],\n",
    "            hue_order = [\"female\", \"male\"],\n",
    "            palette = \"Set1\",\n",
    "            ax = ax[3]\n",
    "            )\n",
    "\n",
    "ax[0].get_legend().remove()\n",
    "ax[1].get_legend().remove()\n",
    "ax[2].get_legend().remove()\n",
    "pylab.legend(loc='best')\n",
    "\n",
    "ax[0].set_title('Total')\n",
    "ax[1].set_title('3 classe')\n",
    "ax[2].set_title('2 classe')\n",
    "ax[3].set_title('1 classe')\n",
    "fig.subplots_adjust(wspace = .6)"
   ]
  },
  {
   "cell_type": "markdown",
   "metadata": {},
   "source": [
    "A maior parte dos passageiros eram homens, sendo a proporção muito maior na terceira classe com embarque em Southampton. Apesar de que essa maioria se confirme em todos on níveis, exceto 1 classe com embarque em Queenstown (onde embarcaram 1 homem e duas mulheres), essa diferença fica menos acentuado a medida que se olha classes - pclass - melhores."
   ]
  },
  {
   "cell_type": "markdown",
   "metadata": {},
   "source": [
    "## 2. Como as características coletadas se comportam em relação ao preço da passagem?"
   ]
  },
  {
   "cell_type": "markdown",
   "metadata": {},
   "source": [
    "### 2.1 Pclass"
   ]
  },
  {
   "cell_type": "markdown",
   "metadata": {},
   "source": [
    "Assim como esperado, vemos que o preço das passagens sofrem uma influência tremenda da categoria de classe em que se deseja viajar. Obviamente sendo a segunda classe mais cara do que a terceira e a primeira classe mais cara do que as duas outras. Sendo uma passagem de primeira classe com o valor quase 10 vezes mais do que uma de segunda classe, que por sua vezes valia quase 10 vezes mais do que uma passagem na terceira classe."
   ]
  },
  {
   "cell_type": "code",
   "execution_count": 37,
   "metadata": {},
   "outputs": [
    {
     "data": {
      "text/plain": [
       "Text(0.5, 1.0, 'Preços das passagens por Classe')"
      ]
     },
     "execution_count": 37,
     "metadata": {},
     "output_type": "execute_result"
    },
    {
     "data": {
      "image/png": "[encoded data removed]",
      "text/plain": [
       "<Figure size 432x288 with 1 Axes>"
      ]
     },
     "metadata": {
      "needs_background": "light"
     },
     "output_type": "display_data"
    }
   ],
   "source": [
    "plt.yscale('log') # Escala em log_10, melhor visualizacao\n",
    "sns.boxplot(\n",
    "    data = data_titanic.query('fare!=0'), # retirar os zero devido a log(0)=inf\n",
    "    x = \"pclass\",\n",
    "    y=\"fare\",\n",
    "    palette = \"Paired\",\n",
    "    showfliers = False\n",
    ")\n",
    "plt.title('Preços das passagens por Classe')"
   ]
  },
  {
   "cell_type": "markdown",
   "metadata": {},
   "source": [
    "Por mais que as acomodações da terceira classe do Titanic fossem consideradas excepcionais na época."
   ]
  },
  {
   "cell_type": "markdown",
   "metadata": {},
   "source": [
    "<table><tr>\n",
    "<td> \n",
    "  <p align=\"center\" style=\"padding: 10px\">\n",
    "    <img alt=\"Forwarding\" src=\"https://static.wikia.nocookie.net/titanic/images/d/da/Titanic_3rd_class.jpg\" width=\"320\">\n",
    "    <br>\n",
    "    <em style=\"color: grey\">Terceira classe</em>\n",
    "  </p> \n",
    "</td>\n",
    "<td> \n",
    "  <p align=\"center\">\n",
    "    <img alt=\"Routing\" src=\"https://static.wikia.nocookie.net/titanic/images/8/87/20201128_165654.jpg\" width=\"320\">\n",
    "    <br>\n",
    "    <em style=\"color: grey\">Terceira classe</em>\n",
    "  </p> \n",
    "</td>\n",
    "</tr></table>"
   ]
  },
  {
   "cell_type": "markdown",
   "metadata": {},
   "source": [
    "O topo do navio, onde ficava a primeira classe, podia ser considerada um mundo a parte. E a diferença astronômica dos preços, era convertida fielmente nas instalações."
   ]
  },
  {
   "cell_type": "markdown",
   "metadata": {},
   "source": [
    "<table><tr>\n",
    "<td> \n",
    "  <p align=\"center\" style=\"padding: 10px\">\n",
    "    <img alt=\"Forwarding\" src=\"https://images.squarespace-cdn.com/content/v1/5006453fe4b09ef2252ba068/1351507897498-5NR30EWR0THJADWKRNWD/ke17ZwdGBToddI8pDm48kJeJHJwC6a6EsSJOBBjFhV9Zw-zPPgdn4jUwVcJE1ZvWQUxwkmyExglNqGp0IvTJZUJFbgE-7XRK3dMEBRBhUpzDyK0yyeJKIY_i0u68MjTVXsF0JxhrS6Mqua5wjwegnaK2LCQsTlqKP_tB0-z4t8c/first+class+cabin.jpg\" width=\"320\">\n",
    "    <br>\n",
    "    <em style=\"color: grey\">Primeira classe</em>\n",
    "  </p> \n",
    "</td>\n",
    "<td> \n",
    "  <p align=\"center\">\n",
    "    <img alt=\"Routing\" src=\"https://images.squarespace-cdn.com/content/v1/5006453fe4b09ef2252ba068/1351508433394-L732R82D33DED9YYDY65/ke17ZwdGBToddI8pDm48kAR7vG2QfD3uW0H7YLf9VaYUqsxRUqqbr1mOJYKfIPR7LoDQ9mXPOjoJoqy81S2I8N_N4V1vUb5AoIIIbLZhVYxCRW4BPu10St3TBAUQYVKcT3f5-rKIYluIX58xa6tfcBn_TXvNu7kmrqqSJvyZGOaDbqGgO06TDcYHqFgl4xk9/Titanic%27s_grand_staircase.jpg\" width=\"320\">\n",
    "    <br>\n",
    "    <em style=\"color: grey\">Terceira classe</em>\n",
    "  </p> \n",
    "</td>\n",
    "</tr></table>"
   ]
  },
  {
   "cell_type": "markdown",
   "metadata": {},
   "source": [
    "### 2.2 Sexo"
   ]
  },
  {
   "cell_type": "markdown",
   "metadata": {},
   "source": [
    "Mulheres também costumaram pagar mais do que homens. Contudo, quando é levado em conta a variável 'parch' a situação muda completamente, sendo até invertida em muitos casos. As variáveis de 'embarque' e 'sibsp' não influenciam muito no resultado."
   ]
  },
  {
   "cell_type": "code",
   "execution_count": 38,
   "metadata": {},
   "outputs": [
    {
     "data": {
      "image/png": "[encoded data removed]",
      "text/plain": [
       "<Figure size 1080x360 with 2 Axes>"
      ]
     },
     "metadata": {
      "needs_background": "light"
     },
     "output_type": "display_data"
    }
   ],
   "source": [
    "#plt.yscale('log') # Escala em log_10, melhor visualizacao\n",
    "fig, ax = plt.subplots(1,2, figsize=(15, 5))\n",
    "\n",
    "sns.boxplot(\n",
    "    data = data_titanic.query('fare!=0'), # retirar os zero devido a log(0)=inf\n",
    "    x = \"sex\",\n",
    "    y=\"fare\",\n",
    "    palette = \"Set1\",\n",
    "    showfliers = False,\n",
    "    ax = ax[0]\n",
    ")\n",
    "sns.boxplot(\n",
    "    data = data_titanic.query('fare!=0'),\n",
    "    x = \"parch\",\n",
    "    hue = \"sex\",\n",
    "    y = \"fare\",\n",
    "    hue_order = ['female', 'male'],\n",
    "    palette = \"Set1\",\n",
    "    showfliers = False,\n",
    "    ax = ax[1]\n",
    ")\n",
    "\n",
    "ax[0].set_title('Preços em geral')\n",
    "ax[1].set_title('Preços seccionados por parch')\n",
    "fig.subplots_adjust(wspace = .6)"
   ]
  },
  {
   "cell_type": "markdown",
   "metadata": {},
   "source": [
    "### 2.2 Parentes a bordo (parch)"
   ]
  },
  {
   "cell_type": "code",
   "execution_count": 39,
   "metadata": {},
   "outputs": [
    {
     "data": {
      "text/html": [
       "<div>\n",
       "<style scoped>\n",
       "    .dataframe tbody tr th:only-of-type {\n",
       "        vertical-align: middle;\n",
       "    }\n",
       "\n",
       "    .dataframe tbody tr th {\n",
       "        vertical-align: top;\n",
       "    }\n",
       "\n",
       "    .dataframe thead tr th {\n",
       "        text-align: left;\n",
       "    }\n",
       "\n",
       "    .dataframe thead tr:last-of-type th {\n",
       "        text-align: right;\n",
       "    }\n",
       "</style>\n",
       "<table border=\"1\" class=\"dataframe\">\n",
       "  <thead>\n",
       "    <tr>\n",
       "      <th></th>\n",
       "      <th colspan=\"5\" halign=\"left\">fare</th>\n",
       "    </tr>\n",
       "    <tr>\n",
       "      <th></th>\n",
       "      <th>min</th>\n",
       "      <th>max</th>\n",
       "      <th>median</th>\n",
       "      <th>mean</th>\n",
       "      <th>count</th>\n",
       "    </tr>\n",
       "    <tr>\n",
       "      <th>parch</th>\n",
       "      <th></th>\n",
       "      <th></th>\n",
       "      <th></th>\n",
       "      <th></th>\n",
       "      <th></th>\n",
       "    </tr>\n",
       "  </thead>\n",
       "  <tbody>\n",
       "    <tr>\n",
       "      <th>0</th>\n",
       "      <td>0.0000</td>\n",
       "      <td>512.3292</td>\n",
       "      <td>10.50000</td>\n",
       "      <td>26.329820</td>\n",
       "      <td>1001</td>\n",
       "    </tr>\n",
       "    <tr>\n",
       "      <th>1</th>\n",
       "      <td>3.1708</td>\n",
       "      <td>512.3292</td>\n",
       "      <td>26.00000</td>\n",
       "      <td>50.078358</td>\n",
       "      <td>170</td>\n",
       "    </tr>\n",
       "    <tr>\n",
       "      <th>2</th>\n",
       "      <td>7.2292</td>\n",
       "      <td>263.0000</td>\n",
       "      <td>31.38750</td>\n",
       "      <td>61.346275</td>\n",
       "      <td>113</td>\n",
       "    </tr>\n",
       "    <tr>\n",
       "      <th>3</th>\n",
       "      <td>18.7500</td>\n",
       "      <td>262.3750</td>\n",
       "      <td>34.37500</td>\n",
       "      <td>86.688537</td>\n",
       "      <td>8</td>\n",
       "    </tr>\n",
       "    <tr>\n",
       "      <th>4</th>\n",
       "      <td>21.0750</td>\n",
       "      <td>263.0000</td>\n",
       "      <td>27.90000</td>\n",
       "      <td>104.723617</td>\n",
       "      <td>6</td>\n",
       "    </tr>\n",
       "    <tr>\n",
       "      <th>5</th>\n",
       "      <td>29.1250</td>\n",
       "      <td>39.6875</td>\n",
       "      <td>31.33125</td>\n",
       "      <td>32.356250</td>\n",
       "      <td>6</td>\n",
       "    </tr>\n",
       "    <tr>\n",
       "      <th>6</th>\n",
       "      <td>46.9000</td>\n",
       "      <td>46.9000</td>\n",
       "      <td>46.90000</td>\n",
       "      <td>46.900000</td>\n",
       "      <td>2</td>\n",
       "    </tr>\n",
       "    <tr>\n",
       "      <th>9</th>\n",
       "      <td>69.5500</td>\n",
       "      <td>69.5500</td>\n",
       "      <td>69.55000</td>\n",
       "      <td>69.550000</td>\n",
       "      <td>2</td>\n",
       "    </tr>\n",
       "  </tbody>\n",
       "</table>\n",
       "</div>"
      ],
      "text/plain": [
       "          fare                                      \n",
       "           min       max    median        mean count\n",
       "parch                                               \n",
       "0       0.0000  512.3292  10.50000   26.329820  1001\n",
       "1       3.1708  512.3292  26.00000   50.078358   170\n",
       "2       7.2292  263.0000  31.38750   61.346275   113\n",
       "3      18.7500  262.3750  34.37500   86.688537     8\n",
       "4      21.0750  263.0000  27.90000  104.723617     6\n",
       "5      29.1250   39.6875  31.33125   32.356250     6\n",
       "6      46.9000   46.9000  46.90000   46.900000     2\n",
       "9      69.5500   69.5500  69.55000   69.550000     2"
      ]
     },
     "execution_count": 39,
     "metadata": {},
     "output_type": "execute_result"
    }
   ],
   "source": [
    "data_titanic.groupby('parch').agg(\n",
    "    {'fare': [min, max, 'median', 'mean', 'count']}\n",
    ")"
   ]
  },
  {
   "cell_type": "markdown",
   "metadata": {},
   "source": [
    "Também quando olhamos para a variável 'parch' sem a interação com o sexo, vemos que ele tem um peso considerável no preço das passagens. É provável que o preço da passagem de um grupo de familiares fosse cobrado na entrada da pessoa responsável. Vemos isso não somente na média e mediana, mas principalmente na diferença constante do mínimo."
   ]
  },
  {
   "cell_type": "markdown",
   "metadata": {},
   "source": [
    "## 3. Como as características coletadas se comportam em relação à sobrevivência dos passageiros?\n"
   ]
  },
  {
   "cell_type": "markdown",
   "metadata": {},
   "source": [
    "<p>\n",
    "<i>\n",
    "<strong>\n",
    "<font style=\"color: rgb(64,200,124); font-family: Arial\">\n",
    "   Por ter sido de forma não-oficial declarado impossível de afundar, os naúticos responsáveis escolheram por gastar menos espaço do navio com botes salva-vidas que atrapalhariam a vistas dos salões. Afinal jamais precisariam utilizar esses botes em larga escala.\n",
    "</font>\n",
    "</strong>\n",
    "</i>\n",
    "</p>\n",
    "\n",
    "<p>\n",
    "<i>\n",
    "<strong>\n",
    "<font style=\"color: rgb(64,200,124); font-family: Arial\">\n",
    "    Então restringiram os botes para um navio com capacidade de aproximadamente 2300 pessoas (entre tripulação e passageiros) para 1272 pessoas, pouco mais da metade.\n",
    "</font>\n",
    "</strong>\n",
    "</i>\n",
    "</p>\n"
   ]
  },
  {
   "cell_type": "markdown",
   "metadata": {},
   "source": [
    "<p>\n",
    "<i>\n",
    "<strong>\n",
    "<font style=\"color: rgb(64,200,124); font-family: Arial\">\n",
    "    No dia 14 de Abril, o dia começa com o que para alguns passageiros era um espetáculo e tanto. O mar apresentava esporadicamente, grande blocos de gelo com cortes claros, finos. E segundos alguns, com pedaços de gelo sólido que refletiam como um prisma a luz solar. Titanic viajava a incríveis 22 nós (41 km/h; 25 mph), somente 2 nós (~4km/h) de sua velocidade máxima.\n",
    "</font>\n",
    "</strong>\n",
    "</i>\n",
    "</p>\n",
    "\n",
    "<p>\n",
    "<i>\n",
    "<strong>\n",
    "<font style=\"color: rgb(64,200,124); font-family: Arial\">\n",
    "   No dia 14 de Abril, 9 horas da manhã, Titanic recebe um aviso do navio RMS Caronia sobre a presença de muitos icebergs no mar onde os dois navios navegavam. O navio continua a 22 nós.\n",
    "</font>\n",
    "</strong>\n",
    "</i>\n",
    "</p>\n",
    "\n",
    "<p>\n",
    "<i>\n",
    "<strong>\n",
    "<font style=\"color: rgb(64,200,124); font-family: Arial\">\n",
    "    14 de Abril, poucos minutos após as 20 horas, Titanic recebe um aviso do navio SS California sobre a presença de imensos campos de gelo no mar e abundância de iceberg nas vias marítimas. O capitão mantém a mesma velocidade.\n",
    "</p>\n",
    "</i>\n",
    "</strong>\n",
    "    </p>\n",
    "\n",
    "<p>\n",
    "<i>\n",
    "<strong>\n",
    "<font style=\"color: rgb(64,200,124); font-family: Arial\">\n",
    "    21h40, SS California reforça o aviso, agora acrescentando confirmação visual da existência de 3 icebergs imensos. Desde 1907, após um navio ter uma grande colisão com um iceberg e mesmo assim completar sua viagem, era de 'conhecimento' comum que icebergs seriam de baixo risco a grandes navios; segundo o futuro capitão do Titanic ainda em 1907, \"em quais condições um iceberg poderia afundar um navio? Não mais, navios modernos já ultrapassaram esse risco há muito tempo\" [Barczewski, Stephanie (2006). Titanic: A Night Remembered. London: Continuum International Publishing Group. ISBN 978-1-85285-500-0.]\n",
    "</font>\n",
    "</strong>\n",
    "</i>\n",
    "</p>\n",
    "\n",
    "<img src=\"https://upload.wikimedia.org/wikipedia/commons/thumb/8/8d/Size_Titanic.png/1280px-Size_Titanic.png\" width=\"500\">\n",
    "\n",
    "<p>\n",
    "<i>\n",
    "<strong>\n",
    "<font style=\"color: rgb(64,200,124); font-family: Arial\">\n",
    "   No total houve 6 avisos de rádio sobre icebergs para o Titanic e nenhuma alteração na velocidade do transatlântico. Hoje isso nos pode soar loucura, algo fácil de se condenar. Mas a época, era prática comum entre marinheiros.\n",
    "</font>\n",
    "</strong>\n",
    "</i>\n",
    "</p>"
   ]
  },
  {
   "cell_type": "markdown",
   "metadata": {},
   "source": [
    "<p>\n",
    "<i>\n",
    "<strong>\n",
    "<font style=\"color: rgb(64,200,124); font-family: Arial\">\n",
    "   Dia 15 de Abril, meia-noite, a colisão com o Iceberg já ocorreu há 20 minutos. E por particularidades da fusilagem do navio que passaremos por alto, o dano é fatal. A água começa a tomar o seu lugar dentro do navio e este está fadado a descer.\n",
    "</font>\n",
    "</strong>\n",
    "</i>\n",
    "</p>\n",
    "\n",
    "<img src=\"https://upload.wikimedia.org/wikipedia/commons/thumb/b/bc/Iceberg_and_titanic_%28fr%29.svg/511px-Iceberg_and_titanic_%28fr%29.svg.png\" width=\"200\">\n",
    "\n",
    "<p>\n",
    "<i>\n",
    "<strong>\n",
    "<font style=\"color: rgb(64,200,124); font-family: Arial\">\n",
    "   Tudo indica que as últimas mensagem enviadas pelo SS California e outros nunca saíram da sala rádio do navio, que estava mais empenha a transmitir aos passageiros mensagens do noticiário local.\n",
    "</font>\n",
    "</strong>\n",
    "</i>\n",
    "</p>"
   ]
  },
  {
   "cell_type": "markdown",
   "metadata": {},
   "source": [
    "Nesta parte iremos nos restringir ao dados em que é sabido se a pessoa sobreviveu ou não, pois as observações onde não há esse registro não agregaram informação nem ao estudo, nem a resposta da pergunta. Havendo, é claro, valor em outros contexto, mas não nesse."
   ]
  },
  {
   "cell_type": "code",
   "execution_count": 40,
   "metadata": {},
   "outputs": [
    {
     "data": {
      "text/plain": [
       "891"
      ]
     },
     "execution_count": 40,
     "metadata": {},
     "output_type": "execute_result"
    }
   ],
   "source": [
    "surv = data_titanic.query('survival!=\"Não informado\"')\n",
    "surv.shape[0]"
   ]
  },
  {
   "cell_type": "markdown",
   "metadata": {},
   "source": [
    "    \n",
    "![](http://3.bp.blogspot.com/-ma3kwcYnw-Y/T4uMHdCJPJI/AAAAAAAADS4/KZDUjlpsddU/s1600/Karte_Route_Titani_1402847z.jpg)"
   ]
  },
  {
   "cell_type": "markdown",
   "metadata": {},
   "source": [
    "Das poucas vagas que haviam nos botes, não sabemos que as ocupou. Mas é razoável imaginar as pessoas que sobreviveram estavam em partes destas vagas. Portanto utilizaremos a variável 'survival' tanto para cálculos sobre sobreviventes quanto para tratar sobre locais nos botes."
   ]
  },
  {
   "cell_type": "code",
   "execution_count": 41,
   "metadata": {
    "scrolled": true
   },
   "outputs": [
    {
     "data": {
      "text/html": [
       "<table style=\"display:inline\" border=\"1\" class=\"dataframe\">\n",
       "  <thead>\n",
       "    <tr style=\"text-align: right;\">\n",
       "      <th>survival</th>\n",
       "      <th>0.0</th>\n",
       "      <th>1.0</th>\n",
       "    </tr>\n",
       "    <tr>\n",
       "      <th>sex</th>\n",
       "      <th></th>\n",
       "      <th></th>\n",
       "    </tr>\n",
       "  </thead>\n",
       "  <tbody>\n",
       "    <tr>\n",
       "      <th>female</th>\n",
       "      <td>0.257962</td>\n",
       "      <td>0.742038</td>\n",
       "    </tr>\n",
       "    <tr>\n",
       "      <th>male</th>\n",
       "      <td>0.811092</td>\n",
       "      <td>0.188908</td>\n",
       "    </tr>\n",
       "    <tr>\n",
       "      <th>Total</th>\n",
       "      <td>0.616162</td>\n",
       "      <td>0.383838</td>\n",
       "    </tr>\n",
       "  </tbody>\n",
       "</table style=\"display:inline\">"
      ]
     },
     "metadata": {},
     "output_type": "display_data"
    },
    {
     "data": {
      "text/plain": [
       "Text(0.5, 1.0, 'Sobrevivência por classe')"
      ]
     },
     "execution_count": 41,
     "metadata": {},
     "output_type": "execute_result"
    },
    {
     "data": {
      "image/png": "[encoded data removed]",
      "text/plain": [
       "<Figure size 1080x360 with 2 Axes>"
      ]
     },
     "metadata": {
      "needs_background": "light"
     },
     "output_type": "display_data"
    }
   ],
   "source": [
    "from IPython.display import display_html\n",
    "def display_side_by_side(*args):\n",
    "    html_str = ''\n",
    "    for df in args:\n",
    "        html_str+=df.to_html()\n",
    "    display_html(html_str.replace('table','table style=\"display:inline\"'), raw = True)\n",
    "\n",
    "df = pd.crosstab(index = surv[\"sex\"],\n",
    "                columns = surv[\"survival\"],\n",
    "                margins = True,\n",
    "                margins_name = \"Total\",\n",
    "                normalize = 'index')\n",
    "    \n",
    "display_side_by_side(df)\n",
    "\n",
    "fig, ax = plt.subplots(1,2, figsize=(15, 5))\n",
    "\n",
    "sns.countplot(x = surv[\"sex\"],\n",
    "            hue = surv[\"survival\"],\n",
    "            palette = ['gray', 'steelblue'],\n",
    "             ax = ax[0])\n",
    "\n",
    "sns.countplot(x = surv[\"pclass\"],\n",
    "            hue = surv[\"survival\"],\n",
    "            palette = ['gray', 'steelblue'],\n",
    "            ax = ax[1])\n",
    "\n",
    "ax[0].set_title('Sobrevivência por sexo')\n",
    "ax[1].set_title('Sobrevivência por classe')"
   ]
  },
  {
   "cell_type": "markdown",
   "metadata": {},
   "source": [
    "Não é difícil perceber que a maioria dos homens morreram, e a maioria das mulheres sobreviveram.\n",
    "\n",
    "Também fica claro a maior mortalidade na Terceira classe. Talvez por ficarem mais longe dos botes e mais próximos da invasão de água, ou talvez por se tratarem de na sua grande maioria de homens. Cabendo um olhar mais próximo para se averiguar isso."
   ]
  },
  {
   "cell_type": "code",
   "execution_count": 42,
   "metadata": {},
   "outputs": [
    {
     "name": "stdout",
     "output_type": "stream",
     "text": [
      "Sobrevivência    \t| Sobrevivência\n",
      "feminina        \t| masculina\n"
     ]
    },
    {
     "data": {
      "text/html": [
       "<table style=\"display:inline\" border=\"1\" class=\"dataframe\">\n",
       "  <thead>\n",
       "    <tr style=\"text-align: right;\">\n",
       "      <th>survival</th>\n",
       "      <th>0.0</th>\n",
       "      <th>1.0</th>\n",
       "    </tr>\n",
       "    <tr>\n",
       "      <th>pclass</th>\n",
       "      <th></th>\n",
       "      <th></th>\n",
       "    </tr>\n",
       "  </thead>\n",
       "  <tbody>\n",
       "    <tr>\n",
       "      <th>1</th>\n",
       "      <td>0.031915</td>\n",
       "      <td>0.968085</td>\n",
       "    </tr>\n",
       "    <tr>\n",
       "      <th>2</th>\n",
       "      <td>0.078947</td>\n",
       "      <td>0.921053</td>\n",
       "    </tr>\n",
       "    <tr>\n",
       "      <th>3</th>\n",
       "      <td>0.500000</td>\n",
       "      <td>0.500000</td>\n",
       "    </tr>\n",
       "    <tr>\n",
       "      <th>Total</th>\n",
       "      <td>0.257962</td>\n",
       "      <td>0.742038</td>\n",
       "    </tr>\n",
       "  </tbody>\n",
       "</table style=\"display:inline\"><table style=\"display:inline\" border=\"1\" class=\"dataframe\">\n",
       "  <thead>\n",
       "    <tr style=\"text-align: right;\">\n",
       "      <th>survival</th>\n",
       "      <th>0.0</th>\n",
       "      <th>1.0</th>\n",
       "    </tr>\n",
       "    <tr>\n",
       "      <th>pclass</th>\n",
       "      <th></th>\n",
       "      <th></th>\n",
       "    </tr>\n",
       "  </thead>\n",
       "  <tbody>\n",
       "    <tr>\n",
       "      <th>1</th>\n",
       "      <td>0.631148</td>\n",
       "      <td>0.368852</td>\n",
       "    </tr>\n",
       "    <tr>\n",
       "      <th>2</th>\n",
       "      <td>0.842593</td>\n",
       "      <td>0.157407</td>\n",
       "    </tr>\n",
       "    <tr>\n",
       "      <th>3</th>\n",
       "      <td>0.864553</td>\n",
       "      <td>0.135447</td>\n",
       "    </tr>\n",
       "    <tr>\n",
       "      <th>Total</th>\n",
       "      <td>0.811092</td>\n",
       "      <td>0.188908</td>\n",
       "    </tr>\n",
       "  </tbody>\n",
       "</table style=\"display:inline\">"
      ]
     },
     "metadata": {},
     "output_type": "display_data"
    },
    {
     "data": {
      "image/png": "[encoded data removed]",
      "text/plain": [
       "<Figure size 1080x288 with 4 Axes>"
      ]
     },
     "metadata": {
      "needs_background": "light"
     },
     "output_type": "display_data"
    }
   ],
   "source": [
    "fig, ax = plt.subplots(1,4, figsize=(15, 4))\n",
    "sns.countplot(x = surv[\"sex\"],\n",
    "            hue = surv[\"survival\"],\n",
    "            order = [\"male\", \"female\"],\n",
    "            palette = ['gray', 'steelblue'],\n",
    "            ax = ax[0]\n",
    "            )\n",
    "sns.countplot(x = surv.query('pclass==1')[\"sex\"],\n",
    "            hue = surv[\"survival\"],\n",
    "            order = [\"male\", \"female\"],\n",
    "            palette = ['gray', 'steelblue'],\n",
    "            ax = ax[1]\n",
    "            )\n",
    "sns.countplot(x = surv.query('pclass==2')[\"sex\"],\n",
    "            hue = surv[\"survival\"],\n",
    "            order = [\"male\", \"female\"],\n",
    "            palette = ['gray', 'steelblue'],\n",
    "            ax = ax[2]\n",
    "            )\n",
    "sns.countplot(x = surv.query('pclass==3')[\"sex\"],\n",
    "            hue = surv[\"survival\"],\n",
    "            order = [\"male\", \"female\"],\n",
    "            palette = ['gray', 'steelblue'],\n",
    "            ax = ax[3]\n",
    "            )\n",
    "ax[1].get_legend().remove()\n",
    "ax[2].get_legend().remove()\n",
    "ax[3].get_legend().remove()\n",
    "\n",
    "ax[0].set_title('Sobrevivência: Total')\n",
    "ax[1].set_title('Sobrevivência: 1 classe')\n",
    "ax[2].set_title('Sobrevivência: 2 classe')\n",
    "ax[3].set_title('Sobrevivência: 3 classe')\n",
    "fig.subplots_adjust(wspace = .6)\n",
    "\n",
    "\n",
    "print(\"Sobrevivência    \\t| Sobrevivência\")\n",
    "print(\"feminina        \\t| masculina\")\n",
    "\n",
    "df1 = pd.crosstab(index = surv.query('sex==\"female\"')[\"pclass\"],\n",
    "           columns = surv[\"survival\"],\n",
    "           margins = True,\n",
    "           margins_name = \"Total\",\n",
    "           normalize = 'index')\n",
    "df2 = pd.crosstab(index = surv.query('sex==\"male\"')[\"pclass\"],\n",
    "           columns = surv[\"survival\"],\n",
    "           margins = True,\n",
    "           margins_name = \"Total\",\n",
    "           normalize = 'index')\n",
    "display_side_by_side(df1,df2)\n"
   ]
  },
  {
   "cell_type": "markdown",
   "metadata": {},
   "source": [
    "A proporção de mulheres que sobreviveram nas classes primeira e segunda é muito parecida. Porém as da terceira classe essa proporção é bem menor, também vemos que a sobrevivência masculina aumentou bastante na primeira classe."
   ]
  },
  {
   "cell_type": "markdown",
   "metadata": {},
   "source": [
    "- Mulheres tiveram maior taxa de sobrevivência em relação aos homens,\n",
    "- Mulheres da terceira classe tiveram sobrevivência menor do que mulheres das demais classes,\n",
    "- Homens da primeira classe tiveram sobrevivência maior do que homens das demais classes."
   ]
  },
  {
   "cell_type": "markdown",
   "metadata": {},
   "source": [
    "\n",
    "<img src=\"https://upload.wikimedia.org/wikipedia/commons/thumb/5/51/Titanic-New_York_Herald_front_page.jpeg/435px-Titanic-New_York_Herald_front_page.jpeg\" width=\"200\">\n",
    "\n",
    "<p>\n",
    "<i>\n",
    "<strong>\n",
    "<font style=\"color: rgb(64,200,124); font-family: Arial\">\n",
    "Dia 15 de Abril:  \n",
    "</font>\n",
    "</strong>\n",
    "</i>\n",
    "</p>\n",
    "\n",
    "<p>\n",
    "<i>\n",
    "<strong>\n",
    "<font style=\"color: rgb(64,200,124); font-family: Arial\">\n",
    "00h30m, Os botes salva-vidas são ativados. Mulheres e crianças recebem preferência para entrarem nos barcos.\n",
    "</font>\n",
    "</strong>\n",
    "</i>\n",
    "</p>\n",
    "\n",
    "<p>\n",
    "<i>\n",
    "<strong>\n",
    "<font style=\"color: rgb(64,200,124); font-family: Arial\">\n",
    "02h10m, Pessoas imersas na água não sobrevivem mais do que 15 minutos. As luzes do navio se desligam.\n",
    "</font>\n",
    "</strong>\n",
    "</i>\n",
    "</p>\n",
    "\n",
    "<p>\n",
    "<i>\n",
    "<strong>\n",
    "<font style=\"color: rgb(64,200,124); font-family: Arial\">\n",
    "02h17m, Titanic quebra ao meio,\n",
    "</font>\n",
    "</strong>\n",
    "</i>\n",
    "</p>\n",
    "\n",
    "<p>\n",
    "<i>\n",
    "<strong>\n",
    "<font style=\"color: rgb(64,200,124); font-family: Arial\">\n",
    "02h19m, Proa começa a afundar,\n",
    "</font>\n",
    "</strong>\n",
    "</i>\n",
    "</p>\n",
    "\n",
    "<p>\n",
    "<i>\n",
    "<strong>\n",
    "<font style=\"color: rgb(64,200,124); font-family: Arial\">\n",
    "02h24m, O navio impossível de afundar chega ao fundo do oceano.\n",
    "</font>\n",
    "</strong>\n",
    "</i>\n",
    "</p>\n"
   ]
  },
  {
   "cell_type": "markdown",
   "metadata": {},
   "source": [
    "# Resumo das conclusões\n",
    "\n",
    "- **1. Como as características coletadas se comportam em relação à cidade de embarque?**\n",
    "    - As classes de serviços variaram muito de acordo com o embarque. Em Southamp a maioria era na terceira classe, alguns na segunda e poucos na primeira. Chebourgh haviam poucos na segunda classe, vários na primeira e alguns na terceira. Já em Queenstown praticamente todos eram na terceira classe.\n",
    "    - A média dos preços também variou nas cidades, em grande parte por conta da diferença nas classes de serviço, assim como o sexo dos passageiros.  \n",
    "\n",
    "- **2. Como as características coletadas se comportam em relação ao preço da passagem?**\n",
    "    - As variáveis que mais afetaram os preços foram a classe de serviço e a presença de familiares a bordo (parch).\n",
    "    \n",
    "- **3. Como as características coletadas se comportam em relação à sobrevivência dos passageiros?**\n",
    "    - O sexo da pessoa influenciou muito na sobrevivência, por jornais da época, acreditamos que isso se deve ao fato do costume de \"Mulheres e crianças primeiros\" quando se trata de situações de perigo.\n",
    "    - A classe de serviço também influenciou bastante, com a primeira classe possuindo menor proporção de mortes e a terceira classe com maior proporção de mortes.\n",
    "    \n",
    "- **4. Como essas 3 variáveis (embarked, fare e survival) se relacionam entre si?**\n",
    "\n",
    "    - As variáveis embarked e fare se relacionam mediadas pelo classe de viagem dos passageiros. O público para cada viagem foi muito distinto, por exemplo em Queenstown praticamente todos os passageiros eram para a terceira classe.\n",
    "\n",
    "    - As variáveis embarked e survival se relacionam muito pouco e essa mediação é também pelo classe de viagem dos passageiros. A primeira classe, quando estudadas em vista do sexo do passageiro, foi teve menor porporção de óbitos e a terceira teve maior proporção de óbitos.\n",
    "\n",
    "    - As variáveis fare e survival, assim como embarked e survival, são medidas pela classe do passageiro. Passageiros que pagaram muito pelas passagens tem maiores chances de estarem na primeira classe - onde houve menor proporção de óbitos -, enquanto passageiros que pouco possuem mais chance de estar na terceira classe."
   ]
  },
  {
   "cell_type": "markdown",
   "metadata": {},
   "source": [
    "## Limitações \n",
    "\n",
    "- As definições das variáveis 'parch' e 'sibsp' não estavam coerentes com o banco de dados, mas com uma rápida pesquisa foi possível descobrir do que se tratavam.\n",
    "\n",
    "- A quantidade de dados faltantes na variável 'age' (263) pode ter comprometido algumas análises. Como exemplo, historicamente se sabe que crianças tiveram prioridade nos botes, essa informação pode se perder em meio aos dados faltantes.\n",
    "\n",
    "- A quantidade de dados faltantes na variável 'survival' (418) tem grande chance de comprometido as análises de quem se salvou.\n",
    "\n",
    "- O preço das passagens sofreram bastante influência da variável 'parch', talvez porque o preço da passagens dos filhos fossem acrescentados na passagem de um dos pais, o que explicaria a grande variação em cada um dos níveis de 'parch'."
   ]
  },
  {
   "cell_type": "raw",
   "metadata": {},
   "source": [
    "hbr.paulo@gmail.com\n",
    "Paulo Henrique Brasil RIbeiro"
   ]
  }
 ],
 "metadata": {
  "kernelspec": {
   "display_name": "Python 3",
   "language": "python",
   "name": "python3"
  },
  "language_info": {
   "codemirror_mode": {
    "name": "ipython",
    "version": 3
   },
   "file_extension": ".py",
   "mimetype": "text/x-python",
   "name": "python",
   "nbconvert_exporter": "python",
   "pygments_lexer": "ipython3",
   "version": "3.8.3"
  }
 },
 "nbformat": 4,
 "nbformat_minor": 4
}
